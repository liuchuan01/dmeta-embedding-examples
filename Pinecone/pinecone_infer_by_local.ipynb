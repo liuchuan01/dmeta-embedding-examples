{
 "cells": [
  {
   "cell_type": "code",
   "execution_count": 32,
   "metadata": {},
   "outputs": [],
   "source": [
    "from pinecone import Pinecone, PodSpec\n",
    "import json\n",
    "from sentence_transformers import SentenceTransformer\n",
    "from openai import OpenAI\n",
    "\n",
    "pc = Pinecone(api_key='your_pincone_key')\n",
    "\n",
    "# 创建index\n",
    "index_name = \"dmeta-temp\"\n",
    "if index_name not in pc.list_indexes().names():\n",
    "    pc.create_index(\n",
    "        name=\"dmeta-temp\",\n",
    "        dimension=768,\n",
    "        metric=\"cosine\",\n",
    "        spec=PodSpec(\n",
    "        environment=\"gcp-starter\"\n",
    "        )\n",
    "    ) \n",
    "\n",
    "index = pc.Index(\"dmeta-temp\")"
   ]
  },
  {
   "cell_type": "code",
   "execution_count": 34,
   "metadata": {},
   "outputs": [],
   "source": [
    "# 将数据导入index中\n",
    "data_path = \"./data.json\"\n",
    "with open(data_path, mode='r', encoding='UTF-8') as data_file:\n",
    "    data = [json.loads(row) for row in data_file]\n",
    "    for temp in data:\n",
    "        index.upsert(\n",
    "            vectors=[\n",
    "                {\"id\": temp[\"id\"], \"values\": temp[\"values\"], \"metadata\": temp[\"metadata\"]},\n",
    "            ],\n",
    "            namespace=\"ns1\"\n",
    "        )"
   ]
  },
  {
   "cell_type": "code",
   "execution_count": 35,
   "metadata": {},
   "outputs": [
    {
     "data": {
      "text/plain": [
       "{'dimension': 768,\n",
       " 'index_fullness': 0.03,\n",
       " 'namespaces': {'ns1': {'vector_count': 3000}},\n",
       " 'total_vector_count': 3000}"
      ]
     },
     "execution_count": 35,
     "metadata": {},
     "output_type": "execute_result"
    }
   ],
   "source": [
    "# 查看index信息\n",
    "index.describe_index_stats()"
   ]
  },
  {
   "cell_type": "code",
   "execution_count": 36,
   "metadata": {},
   "outputs": [],
   "source": [
    "# 模型本地加载推理\n",
    "# SentenceTransformer加载\n",
    "def embedding_with_SF(query):\n",
    "    model = SentenceTransformer('DMetaSoul/Dmeta-embedding')\n",
    "    emb = model.encode(query, normalize_embeddings=True).tolist()\n",
    "    return emb"
   ]
  },
  {
   "cell_type": "code",
   "execution_count": 37,
   "metadata": {},
   "outputs": [],
   "source": [
    "# 检索\n",
    "def retrieve(query):\n",
    "    limit = 3750\n",
    "    # get query vector\n",
    "    emb = embedding_with_SF(query)\n",
    "    # get relevant contexts\n",
    "    res = index.query(namespace = \"ns1\", vector=emb, top_k=3, include_metadata=True)\n",
    "    contexts = []\n",
    "    contexts = contexts + [\n",
    "            x['metadata']['text'] for x in res['matches']\n",
    "        ]\n",
    "    # build our prompt with the retrieved contexts included\n",
    "    prompt_start = (\n",
    "        \"Answer the question based on the context below.\\n\\n\"+\n",
    "        \"Context:\\n\"\n",
    "    )\n",
    "    prompt_end = (\n",
    "        f\"\\n\\nQuestion: {query}\\nAnswer:\"\n",
    "    )\n",
    "    # append contexts until hitting limit\n",
    "    for i in range(1, len(contexts)):\n",
    "        if len(\"\\n\\n---\\n\\n\".join(contexts[:i])) >= limit:\n",
    "            prompt = (\n",
    "                prompt_start +\n",
    "                \"\\n\\n---\\n\\n\".join(contexts[:i-1]) +\n",
    "                prompt_end\n",
    "            )\n",
    "            break\n",
    "        elif i == len(contexts)-1:\n",
    "            prompt = (\n",
    "                prompt_start +\n",
    "                \"\\n\\n---\\n\\n\".join(contexts) +\n",
    "                prompt_end\n",
    "            )\n",
    "    return prompt"
   ]
  },
  {
   "cell_type": "code",
   "execution_count": 38,
   "metadata": {},
   "outputs": [],
   "source": [
    "# 生成回答\n",
    "def complete(prompt):\n",
    "    client = OpenAI(\n",
    "        api_key=\"your_openai_key\",\n",
    "        base_url=\"https://api.openai.com\"\n",
    "    )\n",
    "    # instructions\n",
    "    sys_prompt = \"You are a helpful assistant that always answers questions.\"\n",
    "    # query text-davinci-003\n",
    "    res = client.chat.completions.create(\n",
    "        messages=[\n",
    "            {\"role\": \"system\", \"content\": sys_prompt},\n",
    "            {\"role\": \"user\", \"content\": prompt}\n",
    "        ],\n",
    "        model='gpt-3.5-turbo-0613',\n",
    "        temperature=0\n",
    "    )\n",
    "    return res.model_dump()['choices'][0]['message']['content']"
   ]
  },
  {
   "cell_type": "code",
   "execution_count": 39,
   "metadata": {},
   "outputs": [
    {
     "data": {
      "text/plain": [
       "'Answer the question based on the context below.\\n\\nContext:\\n病情分析：你好：可能是运动性哮喘，这是一种特殊类型的哮喘，多在运动后8-15分钟出现咳嗽、，半小时至1小时后缓解，有的在运动结束后后4-12小时再次发作。指导意见：建议做肺部CT检查，排除心肺疾患，查找原因，积极治疗。\\n\\n---\\n\\n你好，咳嗽一般多是由于支气管发炎局部炎症造成的，可以适当口服咳停片、可快好片、头孢克洛分散片、舒喘灵、蒲地蓝消炎片等药物一块治疗就可以了。指导意见同时注意禁酒及生冷辛辣刺激的食物，必要的时候输液治疗效果比较好。\\n\\n---\\n\\n出现建议首先检查是否是有肺部感染\\n\\nQuestion: 我一运动完就咳漱的厉害\\nAnswer:'"
      ]
     },
     "execution_count": 39,
     "metadata": {},
     "output_type": "execute_result"
    }
   ],
   "source": [
    "# 检索示例\n",
    "query = \"我一运动完就咳漱的厉害\"\n",
    "query_with_contexts = retrieve(query)\n",
    "query_with_contexts"
   ]
  },
  {
   "cell_type": "code",
   "execution_count": 40,
   "metadata": {},
   "outputs": [
    {
     "data": {
      "text/plain": [
       "'可能是运动性哮喘。建议做肺部CT检查，排除心肺疾患，查找原因，并积极治疗。'"
      ]
     },
     "execution_count": 40,
     "metadata": {},
     "output_type": "execute_result"
    }
   ],
   "source": [
    "# 生成回答\n",
    "complete(query_with_contexts)"
   ]
  },
  {
   "cell_type": "code",
   "execution_count": 41,
   "metadata": {},
   "outputs": [],
   "source": [
    "pc.delete_index(\"dmeta-temp\")"
   ]
  }
 ],
 "metadata": {
  "kernelspec": {
   "display_name": "Python 3 (ipykernel)",
   "language": "python",
   "name": "python3"
  },
  "language_info": {
   "codemirror_mode": {
    "name": "ipython",
    "version": 3
   },
   "file_extension": ".py",
   "mimetype": "text/x-python",
   "name": "python",
   "nbconvert_exporter": "python",
   "pygments_lexer": "ipython3",
   "version": "3.8.12"
  },
  "toc": {
   "base_numbering": 1,
   "nav_menu": {},
   "number_sections": false,
   "sideBar": true,
   "skip_h1_title": false,
   "title_cell": "Table of Contents",
   "title_sidebar": "Contents",
   "toc_cell": false,
   "toc_position": {},
   "toc_section_display": true,
   "toc_window_display": true
  }
 },
 "nbformat": 4,
 "nbformat_minor": 2
}
